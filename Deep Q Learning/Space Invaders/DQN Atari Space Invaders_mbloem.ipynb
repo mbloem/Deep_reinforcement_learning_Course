{
  "nbformat": 4,
  "nbformat_minor": 0,
  "metadata": {
    "kernelspec": {
      "name": "python3",
      "display_name": "Python 3"
    },
    "language_info": {
      "codemirror_mode": {
        "name": "ipython",
        "version": 3
      },
      "file_extension": ".py",
      "mimetype": "text/x-python",
      "name": "python",
      "nbconvert_exporter": "python",
      "pygments_lexer": "ipython3",
      "version": "3.8.0"
    },
    "colab": {
      "name": "DQN Atari Space Invaders_mbloem.ipynb",
      "provenance": [],
      "include_colab_link": true
    },
    "accelerator": "TPU"
  },
  "cells": [
    {
      "cell_type": "markdown",
      "metadata": {
        "id": "view-in-github",
        "colab_type": "text"
      },
      "source": [
        "<a href=\"https://colab.research.google.com/github/mbloem/Deep_reinforcement_learning_Course/blob/master/Deep%20Q%20Learning/Space%20Invaders/DQN%20Atari%20Space%20Invaders_mbloem.ipynb\" target=\"_parent\"><img src=\"https://colab.research.google.com/assets/colab-badge.svg\" alt=\"Open In Colab\"/></a>"
      ]
    },
    {
      "cell_type": "markdown",
      "metadata": {
        "id": "bCmoICvI6DA3",
        "colab_type": "text"
      },
      "source": [
        "# Deep Q Learning with Atari© Space Invaders© 🕹️👾"
      ]
    },
    {
      "cell_type": "markdown",
      "metadata": {
        "id": "mZgFU0rF6DA4",
        "colab_type": "text"
      },
      "source": [
        "In this notebook we'll implement an agent **that learns to play Atari© Space Invaders© using OpenAI retro as environment library.**\n",
        "\n",
        "Our agent after 2 hours of training (as you can see it needs much more, but **for educational purposes we can see that's a good beginning**)\n",
        "\n",
        "<img src=\"https://raw.githubusercontent.com/simoninithomas/Deep_reinforcement_learning_Course/master/Deep%20Q%20Learning/Space%20Invaders/assets/spaceinvaders.gif\" alt=\"Space invaders dqn\"/>\n",
        "\n"
      ]
    },
    {
      "cell_type": "markdown",
      "metadata": {
        "id": "f9009jAH6DA6",
        "colab_type": "text"
      },
      "source": [
        "# This is a notebook from [Deep Reinforcement Learning Course with Tensorflow](https://simoninithomas.github.io/Deep_reinforcement_learning_Course/)\n",
        "<img src=\"https://raw.githubusercontent.com/simoninithomas/Deep_reinforcement_learning_Course/master/docs/assets/img/DRLC%20Environments.png\" alt=\"Deep Reinforcement Course\"/>\n",
        "<br>\n",
        "<p>  Deep Reinforcement Learning Course is a free series of articles and videos tutorials 🆕 about Deep Reinforcement Learning, where **we'll learn the main algorithms (Q-learning, Deep Q Nets, Dueling Deep Q Nets, Policy Gradients, A2C, Proximal Policy Gradients…), and how to implement them with Tensorflow.**\n",
        "<br><br>\n",
        "    \n",
        "📜The articles explain the architectures from the big picture to the mathematical details behind them.\n",
        "<br>\n",
        "📹 The videos explain how to build the agents with Tensorflow </b></p>\n",
        "<br>\n",
        "This course will give you a **solid foundation for understanding and implementing the future state of the art algorithms**. And, you'll build a strong professional portfolio by creating **agents that learn to play awesome environments**: Doom© 👹, Space invaders 👾, Outrun, Sonic the Hedgehog©, Michael Jackson’s Moonwalker, agents that will be able to navigate in 3D environments with DeepMindLab (Quake) and able to walk with Mujoco. \n",
        "<br><br>\n",
        "</p> \n",
        "\n",
        "## 📚 The complete [Syllabus HERE](https://simoninithomas.github.io/Deep_reinforcement_learning_Course/)\n",
        "\n",
        "\n",
        "## Any questions 👨‍💻\n",
        "<p> If you have any questions, feel free to ask me: </p>\n",
        "<p> 📧: <a href=\"mailto:hello@simoninithomas.com\">hello@simoninithomas.com</a>  </p>\n",
        "<p> Github: https://github.com/simoninithomas/Deep_reinforcement_learning_Course </p>\n",
        "<p> 🌐 : https://simoninithomas.github.io/Deep_reinforcement_learning_Course/ </p>\n",
        "<p> Twitter: <a href=\"https://twitter.com/ThomasSimonini\">@ThomasSimonini</a> </p>\n",
        "<p> Don't forget to <b> follow me on <a href=\"https://twitter.com/ThomasSimonini\">twitter</a>, <a href=\"https://github.com/simoninithomas/Deep_reinforcement_learning_Course\">github</a> and <a href=\"https://medium.com/@thomassimonini\">Medium</a> to be alerted of the new articles that I publish </b></p>\n",
        "    \n",
        "## How to help  🙌\n",
        "3 ways:\n",
        "- **Clap our articles and like our videos a lot**:Clapping in Medium means that you really like our articles. And the more claps we have, the more our article is shared Liking our videos help them to be much more visible to the deep learning community.\n",
        "- **Share and speak about our articles and videos**: By sharing our articles and videos you help us to spread the word. \n",
        "- **Improve our notebooks**: if you found a bug or **a better implementation** you can send a pull request.\n",
        "<br>\n",
        "\n",
        "## Important note 🤔\n",
        "<b> You can run it on your computer but it's better to run it on GPU based services</b>, personally I use Microsoft Azure and their Deep Learning Virtual Machine (they offer 170$)\n",
        "https://azuremarketplace.microsoft.com/en-us/marketplace/apps/microsoft-ads.dsvm-deep-learning\n",
        "<br>\n",
        "⚠️ I don't have any business relations with them. I just loved their excellent customer service.\n",
        "\n",
        "If you have some troubles to use Microsoft Azure follow the explainations of this excellent article here (without last the part fast.ai): https://medium.com/@manikantayadunanda/setting-up-deeplearning-machine-and-fast-ai-on-azure-a22eb6bd6429"
      ]
    },
    {
      "cell_type": "markdown",
      "metadata": {
        "id": "lZVqJQJW6DA8",
        "colab_type": "text"
      },
      "source": [
        "## Prerequisites 🏗️\n",
        "Before diving on the notebook **you need to understand**:\n",
        "- The foundations of Reinforcement learning (MC, TD, Rewards hypothesis...) [Article](https://medium.freecodecamp.org/an-introduction-to-reinforcement-learning-4339519de419)\n",
        "- Q-learning [Article](https://medium.freecodecamp.org/diving-deeper-into-reinforcement-learning-with-q-learning-c18d0db58efe)\n",
        "- Deep Q-Learning [Article](https://medium.freecodecamp.org/an-introduction-to-deep-q-learning-lets-play-doom-54d02d8017d8)\n",
        "- In the [video version](https://www.youtube.com/watch?v=gCJyVX98KJ4)  we implemented a Deep Q-learning agent with Tensorflow that learns to play Atari Space Invaders 🕹️👾."
      ]
    },
    {
      "cell_type": "code",
      "metadata": {
        "id": "1qaQkeJA6DA-",
        "colab_type": "code",
        "colab": {
          "base_uri": "https://localhost:8080/",
          "height": 335
        },
        "outputId": "4022ef54-1e6d-4219-9d5b-09df2b92721b"
      },
      "source": [
        "from IPython.display import HTML\n",
        "HTML('<iframe width=\"560\" height=\"315\" src=\"https://www.youtube.com/embed/gCJyVX98KJ4?showinfo=0\" frameborder=\"0\" allow=\"autoplay; encrypted-media\" allowfullscreen></iframe>')"
      ],
      "execution_count": 9,
      "outputs": [
        {
          "output_type": "execute_result",
          "data": {
            "text/html": [
              "<iframe width=\"560\" height=\"315\" src=\"https://www.youtube.com/embed/gCJyVX98KJ4?showinfo=0\" frameborder=\"0\" allow=\"autoplay; encrypted-media\" allowfullscreen></iframe>"
            ],
            "text/plain": [
              "<IPython.core.display.HTML object>"
            ]
          },
          "metadata": {
            "tags": []
          },
          "execution_count": 9
        }
      ]
    },
    {
      "cell_type": "markdown",
      "metadata": {
        "id": "HnhxO03L6DBC",
        "colab_type": "text"
      },
      "source": [
        "## Step 1: Import the libraries 📚"
      ]
    },
    {
      "cell_type": "code",
      "metadata": {
        "id": "Hx1n13r76hQQ",
        "colab_type": "code",
        "colab": {
          "base_uri": "https://localhost:8080/",
          "height": 193
        },
        "outputId": "db8439d5-af62-4296-eb76-1e3f59118c2e"
      },
      "source": [
        "!apt-get install pkg-config lua5.1 build-essential libav-tools git"
      ],
      "execution_count": 10,
      "outputs": [
        {
          "output_type": "stream",
          "text": [
            "Reading package lists... Done\n",
            "Building dependency tree       \n",
            "Reading state information... Done\n",
            "Package libav-tools is not available, but is referred to by another package.\n",
            "This may mean that the package is missing, has been obsoleted, or\n",
            "is only available from another source\n",
            "However the following packages replace it:\n",
            "  ffmpeg\n",
            "\n",
            "E: Package 'libav-tools' has no installation candidate\n"
          ],
          "name": "stdout"
        }
      ]
    },
    {
      "cell_type": "code",
      "metadata": {
        "id": "luyDTCdB6ovO",
        "colab_type": "code",
        "colab": {
          "base_uri": "https://localhost:8080/",
          "height": 547
        },
        "outputId": "31813568-ce3c-4947-c9de-547928871d1f"
      },
      "source": [
        "!pip install tqdm retrowrapper gym-retro\n",
        "!pip install -U git+git://github.com/frenchie4111/dumbrain.git"
      ],
      "execution_count": 11,
      "outputs": [
        {
          "output_type": "stream",
          "text": [
            "Requirement already satisfied: tqdm in /usr/local/lib/python3.6/dist-packages (4.28.1)\n",
            "Requirement already satisfied: retrowrapper in /usr/local/lib/python3.6/dist-packages (0.3.0)\n",
            "Requirement already satisfied: gym-retro in /usr/local/lib/python3.6/dist-packages (0.7.0)\n",
            "Requirement already satisfied: gym in /usr/local/lib/python3.6/dist-packages (from gym-retro) (0.15.4)\n",
            "Requirement already satisfied: pyglet==1.*,>=1.3.2 in /usr/local/lib/python3.6/dist-packages (from gym-retro) (1.3.2)\n",
            "Requirement already satisfied: numpy>=1.10.4 in /usr/local/lib/python3.6/dist-packages (from gym->gym-retro) (1.17.5)\n",
            "Requirement already satisfied: cloudpickle~=1.2.0 in /usr/local/lib/python3.6/dist-packages (from gym->gym-retro) (1.2.2)\n",
            "Requirement already satisfied: six in /usr/local/lib/python3.6/dist-packages (from gym->gym-retro) (1.12.0)\n",
            "Requirement already satisfied: scipy in /usr/local/lib/python3.6/dist-packages (from gym->gym-retro) (1.4.1)\n",
            "Requirement already satisfied: opencv-python in /usr/local/lib/python3.6/dist-packages (from gym->gym-retro) (4.1.2.30)\n",
            "Requirement already satisfied: future in /usr/local/lib/python3.6/dist-packages (from pyglet==1.*,>=1.3.2->gym-retro) (0.16.0)\n",
            "Collecting git+git://github.com/frenchie4111/dumbrain.git\n",
            "  Cloning git://github.com/frenchie4111/dumbrain.git to /tmp/pip-req-build-b_1kdnp0\n",
            "  Running command git clone -q git://github.com/frenchie4111/dumbrain.git /tmp/pip-req-build-b_1kdnp0\n",
            "Building wheels for collected packages: dumbrain\n",
            "  Building wheel for dumbrain (setup.py) ... \u001b[?25l\u001b[?25hdone\n",
            "  Created wheel for dumbrain: filename=dumbrain-0.1-cp36-none-any.whl size=12227 sha256=1d66cd5885a7c6ee12fa032db4b6f4d4806cefc44470bcbee9e91e21ca51ce63\n",
            "  Stored in directory: /tmp/pip-ephem-wheel-cache-x3wlm85y/wheels/50/8e/6f/47c68c95113aa8c02ac02bde75673ace7c3d3636842c75fcb6\n",
            "Successfully built dumbrain\n",
            "Installing collected packages: dumbrain\n",
            "  Found existing installation: dumbrain 0.1\n",
            "    Uninstalling dumbrain-0.1:\n",
            "      Successfully uninstalled dumbrain-0.1\n",
            "Successfully installed dumbrain-0.1\n"
          ],
          "name": "stdout"
        },
        {
          "output_type": "display_data",
          "data": {
            "application/vnd.colab-display-data+json": {
              "pip_warning": {
                "packages": [
                  "dumbrain"
                ]
              }
            }
          },
          "metadata": {
            "tags": []
          }
        }
      ]
    },
    {
      "cell_type": "code",
      "metadata": {
        "id": "nf_xJuK86DBE",
        "colab_type": "code",
        "colab": {}
      },
      "source": [
        "import tensorflow as tf      # Deep Learning library\n",
        "import numpy as np           # Handle matrices\n",
        "import retro                 # Retro Environment\n",
        "\n",
        "\n",
        "from skimage import transform # Help us to preprocess the frames\n",
        "from skimage.color import rgb2gray # Help us to gray our frames\n",
        "\n",
        "import matplotlib.pyplot as plt # Display graphs\n",
        "\n",
        "from collections import deque# Ordered collection with ends\n",
        "\n",
        "import random\n",
        "\n",
        "import warnings # This ignore all the warning messages that are normally printed during the training because of skiimage\n",
        "warnings.filterwarnings('ignore') "
      ],
      "execution_count": 0,
      "outputs": []
    },
    {
      "cell_type": "markdown",
      "metadata": {
        "id": "rlv7wlpv6DBH",
        "colab_type": "text"
      },
      "source": [
        "## Step 2: Create our environment 🎮\n",
        "This time we use **OpenAI Retro**, a wrapper for video game emulator cores using the Libretro API to turn them into Gym environments.\n",
        "\n",
        "<img src=\"http://cdn-static.denofgeek.com/sites/denofgeek/files/styles/main_wide/public/mega-drive-main.jpg?itok=aj_clOZT\" style=\"max-width:50%\" alt=\"Sega\" /><p><i>Source: Denofgeek </i></p>"
      ]
    },
    {
      "cell_type": "markdown",
      "metadata": {
        "id": "NdiK4ZS16DBJ",
        "colab_type": "text"
      },
      "source": [
        "### Our environment\n",
        "Our Environment is the famous game Atari Space Invaders.\n"
      ]
    },
    {
      "cell_type": "code",
      "metadata": {
        "id": "fEstIugq6-7K",
        "colab_type": "code",
        "colab": {
          "resources": {
            "http://localhost:8080/nbextensions/google.colab/files.js": {
              "data": "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",
              "ok": true,
              "headers": [
                [
                  "content-type",
                  "application/javascript"
                ]
              ],
              "status": 200,
              "status_text": ""
            }
          },
          "base_uri": "https://localhost:8080/",
          "height": 148
        },
        "outputId": "84df1d7b-d54b-4138-cfe4-53445f5a339e"
      },
      "source": [
        "from dumbrain.rl.retro_contest.install_games import colabInstallGames\n",
        "colabInstallGames()"
      ],
      "execution_count": 14,
      "outputs": [
        {
          "output_type": "display_data",
          "data": {
            "text/html": [
              "\n",
              "     <input type=\"file\" id=\"files-9bb2492a-a34e-437f-abbc-b839f6b0defd\" name=\"files[]\" multiple disabled />\n",
              "     <output id=\"result-9bb2492a-a34e-437f-abbc-b839f6b0defd\">\n",
              "      Upload widget is only available when the cell has been executed in the\n",
              "      current browser session. Please rerun this cell to enable.\n",
              "      </output>\n",
              "      <script src=\"/nbextensions/google.colab/files.js\"></script> "
            ],
            "text/plain": [
              "<IPython.core.display.HTML object>"
            ]
          },
          "metadata": {
            "tags": []
          }
        },
        {
          "output_type": "stream",
          "text": [
            "Saving ROMs.zip to ROMs.zip\n"
          ],
          "name": "stdout"
        },
        {
          "output_type": "stream",
          "text": [
            "100%|██████████| 24576/24576 [00:00<00:00, 6274223.33it/s]"
          ],
          "name": "stderr"
        },
        {
          "output_type": "stream",
          "text": [
            "Importing SpaceInvaders-Atari2600\n",
            "Imported 1 games\n"
          ],
          "name": "stdout"
        },
        {
          "output_type": "stream",
          "text": [
            "\n"
          ],
          "name": "stderr"
        }
      ]
    },
    {
      "cell_type": "code",
      "metadata": {
        "id": "DLQ6JdY-6DBK",
        "colab_type": "code",
        "colab": {
          "base_uri": "https://localhost:8080/",
          "height": 52
        },
        "outputId": "c9b55e66-0270-4403-b196-8345fcb639cd"
      },
      "source": [
        "env = retro.make(game='SpaceInvaders-Atari2600')\n",
        "\n",
        "print('The size of our frame is: ', env.observation_space)\n",
        "print('The action size is: ', env.action_space.n)"
      ],
      "execution_count": 15,
      "outputs": [
        {
          "output_type": "stream",
          "text": [
            "The size of our frame is:  Box(210, 160, 3)\n",
            "The action size is:  8\n"
          ],
          "name": "stdout"
        }
      ]
    },
    {
      "cell_type": "code",
      "metadata": {
        "id": "1a-2Pm8H7v-T",
        "colab_type": "code",
        "colab": {
          "base_uri": "https://localhost:8080/",
          "height": 34
        },
        "outputId": "b0ed8a6b-dd6d-48ce-8ac4-849545425381"
      },
      "source": [
        "env.action_space"
      ],
      "execution_count": 16,
      "outputs": [
        {
          "output_type": "execute_result",
          "data": {
            "text/plain": [
              "MultiBinary(8)"
            ]
          },
          "metadata": {
            "tags": []
          },
          "execution_count": 16
        }
      ]
    },
    {
      "cell_type": "code",
      "metadata": {
        "id": "M1QPzzdW7yd7",
        "colab_type": "code",
        "colab": {
          "base_uri": "https://localhost:8080/",
          "height": 158
        },
        "outputId": "e18f4821-02c1-4e0c-e7db-27a9969b4a7d"
      },
      "source": [
        "possible_actions = np.array(np.identity(env.action_space.n, dtype=int).tolist())\n",
        "possible_actions"
      ],
      "execution_count": 17,
      "outputs": [
        {
          "output_type": "execute_result",
          "data": {
            "text/plain": [
              "array([[1, 0, 0, 0, 0, 0, 0, 0],\n",
              "       [0, 1, 0, 0, 0, 0, 0, 0],\n",
              "       [0, 0, 1, 0, 0, 0, 0, 0],\n",
              "       [0, 0, 0, 1, 0, 0, 0, 0],\n",
              "       [0, 0, 0, 0, 1, 0, 0, 0],\n",
              "       [0, 0, 0, 0, 0, 1, 0, 0],\n",
              "       [0, 0, 0, 0, 0, 0, 1, 0],\n",
              "       [0, 0, 0, 0, 0, 0, 0, 1]])"
            ]
          },
          "metadata": {
            "tags": []
          },
          "execution_count": 17
        }
      ]
    },
    {
      "cell_type": "markdown",
      "metadata": {
        "id": "s7vydwCg6DBP",
        "colab_type": "text"
      },
      "source": [
        "## Step 3 : Define the preprocessing functions ⚙️\n",
        "### preprocess_frame\n",
        "Preprocessing is an important step, <b>because we want to reduce the complexity of our states to reduce the computation time needed for training.</b>\n",
        "<br><br>\n",
        "Our steps:\n",
        "- Grayscale each of our frames (because <b> color does not add important information </b>).\n",
        "- Crop the screen (in our case we remove the part below the player because it does not add any useful information)\n",
        "- We normalize pixel values\n",
        "- Finally we resize the preprocessed frame"
      ]
    },
    {
      "cell_type": "code",
      "metadata": {
        "id": "1AnJHBa36DBQ",
        "colab_type": "code",
        "colab": {}
      },
      "source": [
        "\"\"\"\n",
        "preprocess_frame:\n",
        "Take a frame.\n",
        "Grayscale it\n",
        "Resize it.\n",
        "    __________________\n",
        "    |                 |\n",
        "    |                 |\n",
        "    |                 |\n",
        "    |                 |\n",
        "    |_________________|\n",
        "\n",
        "    to\n",
        "    _____________\n",
        "    |            |\n",
        "    |            |\n",
        "    |            |\n",
        "    |____________|\n",
        "Normalize it.\n",
        "\n",
        "return preprocessed_frame\n",
        "\n",
        "\"\"\"\n",
        "def preprocess_frame(frame):\n",
        "    gray = rgb2gray(frame)\n",
        "    \n",
        "    cropped_frame = gray[8:-12,4:-12]\n",
        "    \n",
        "    normalized_frame = cropped_frame/255.0\n",
        "    \n",
        "    preprocessed_frame = transform.resize(normalized_frame, [110,84])\n",
        "    \n",
        "    return preprocessed_frame # 110 x 84 x 1 frame"
      ],
      "execution_count": 0,
      "outputs": []
    },
    {
      "cell_type": "markdown",
      "metadata": {
        "id": "ylHCWBVp6DBT",
        "colab_type": "text"
      },
      "source": [
        "### stack_frames\n",
        "As explained in this really <a href=\"https://danieltakeshi.github.io/2016/11/25/frame-skipping-and-preprocessing-for-deep-q-networks-on-atari-2600-games/\">  good article </a> we stack frames.\n",
        "\n",
        "Stacking frames is really important because it helps us to **give have a sense of motion to our Neural Network.**\n",
        "\n",
        "BUT, **we don't stack each frames, we skip 4 frames at each timestep**. This means that only every fourth frame is considered. And then, we use this frame to form the stack_frame.\n",
        "\n",
        "**The frame skipping method is already implemented in the library.**\n",
        "\n",
        "- First we preprocess frame\n",
        "- Then we append the frame to the deque that automatically **removes the oldest frame**\n",
        "- Finally we **build the stacked state**\n",
        "\n",
        "This is how work stack:\n",
        "- For the first frame, we feed 4 frames\n",
        "- At each timestep, **we add the new frame to deque and then we stack them to form a new stacked frame**\n",
        "- And so on\n",
        "<img src=\"https://raw.githubusercontent.com/simoninithomas/Deep_reinforcement_learning_Course/master/DQN/Space%20Invaders/assets/stack_frames.png\" alt=\"stack\">\n",
        "- If we're done, **we create a new stack with 4 new frames (because we are in a new episode)**."
      ]
    },
    {
      "cell_type": "code",
      "metadata": {
        "id": "c0wsbd166DBV",
        "colab_type": "code",
        "colab": {}
      },
      "source": [
        "stack_size = 4\n",
        "\n",
        "stacked_frames = deque([np.zeros((110,84), dtype=np.int) for i in range(stack_size)], maxlen=4)\n",
        "\n",
        "def stack_frames(stacked_frames, state, is_new_episode):\n",
        "    frame = preprocess_frame(state)\n",
        "    \n",
        "    if is_new_episode:\n",
        "        stacked_frames = deque([np.zeros((110,84), dtype=np.int) for i in range(stack_size)], maxlen=4)\n",
        "        \n",
        "        stacked_frames.append(frame)\n",
        "        stacked_frames.append(frame)\n",
        "        stacked_frames.append(frame)\n",
        "        stacked_frames.append(frame)\n",
        "        \n",
        "    else:\n",
        "        stacked_frames.append(frame) # automatically removes the oldest frame\n",
        "        \n",
        "    stacked_state = np.stack(stacked_frames, axis=2)\n",
        "    \n",
        "    return stacked_state, stacked_frames"
      ],
      "execution_count": 0,
      "outputs": []
    },
    {
      "cell_type": "markdown",
      "metadata": {
        "id": "ZWxnlTJm6DBa",
        "colab_type": "text"
      },
      "source": [
        "## Step 4: Set up our hyperparameters ⚗️\n",
        "In this part we'll set up our different hyperparameters. But when you implement a Neural Network by yourself you will **not implement hyperparamaters at once but progressively**.\n",
        "\n",
        "- First, you begin by defining the neural networks hyperparameters when you implement the model.\n",
        "- Then, you'll add the training hyperparameters when you implement the training algorithm."
      ]
    },
    {
      "cell_type": "code",
      "metadata": {
        "id": "hxxB9zTl6DBc",
        "colab_type": "code",
        "colab": {}
      },
      "source": [
        "### MODEL HYPERPARAMETERS\n",
        "state_size = [110, 84, 4]       # width x height x channels\n",
        "action_size = env.action_space.n\n",
        "learning_rate = 0.00025         # alpha\n",
        "\n",
        "### TRAINING HYPERPARAMETERS\n",
        "total_episodes = 50\n",
        "max_steps = 50000\n",
        "batch_size = 64\n",
        "\n",
        "# Exploration parameters for epsilon greedy strategy\n",
        "explore_start = 1.0\n",
        "explore_stop = 0.01     # min exploration probability\n",
        "decay_rate = 0.00001    # exponential decay rate for exploration probability\n",
        "\n",
        "# Q learning hyperparameters\n",
        "gamma = 0.9             # discount rate for future rewards\n",
        "\n",
        "### MEMORY HYPERPARAMETERS\n",
        "pretrain_length = batch_size     # number of experiences stored in the Memory when initialized for the first time\n",
        "memory_size = 1000000            # number of experiences the Memory can keep\n",
        "\n",
        "### PREPROCESSING HYPERPARAMETERS\n",
        "stack_size = 4\n",
        "\n",
        "### IF WANT TO SEE TRAINED AGENT\n",
        "training = True\n",
        "\n",
        "## IF WANT TO RENDER\n",
        "episode_render = False"
      ],
      "execution_count": 0,
      "outputs": []
    },
    {
      "cell_type": "markdown",
      "metadata": {
        "id": "YbpCZXGC6DBh",
        "colab_type": "text"
      },
      "source": [
        "## Step 5: Create our Deep Q-learning Neural Network model 🧠\n",
        "<img src=\"https://raw.githubusercontent.com/simoninithomas/Deep_reinforcement_learning_Course/master/DQN/Space%20Invaders/assets/DQN%20Illustrations.png\" alt=\"Model\" />\n",
        "This is our Deep Q-learning model:\n",
        "- We take a stack of 4 frames as input\n",
        "- It passes through 3 convnets\n",
        "- Then it is flatened\n",
        "- Finally it passes through 2 FC layers\n",
        "- It outputs a Q value for each actions"
      ]
    },
    {
      "cell_type": "code",
      "metadata": {
        "id": "w8jmLnDu6DBi",
        "colab_type": "code",
        "colab": {}
      },
      "source": [
        "class DQNetwork:\n",
        "    def __init__(\n",
        "        self,\n",
        "        state_size,\n",
        "        action_size,\n",
        "        learning_rate,\n",
        "        name='DQNetwork',\n",
        "    ):\n",
        "        self.state_size = state_size\n",
        "        self.action_size = action_size\n",
        "        self.learning_rate = learning_rate\n",
        "        \n",
        "        with tf.variable_scope(name):\n",
        "            # We create the placeholders\n",
        "            # *state_size means that we take each elements of state_size in tuple, \n",
        "            # hence it is like if we wrote\n",
        "            # [None, 110, 84, 4]\n",
        "            self.inputs_ = tf.placeholder(tf.float32, [None, *state_size], name='inputs')\n",
        "            self.actions_ = tf.placeholder(tf.float32, [None, self.action_size], name='actions_')\n",
        "            \n",
        "            # Remember that target_Q is the R(s,a) + gamma * max_a' { Qhat(s',a') }\n",
        "            self.target_Q = tf.placeholder(tf.float32, [None], name='target')\n",
        "            \n",
        "            \"\"\"\n",
        "            First convnet:\n",
        "            CNN\n",
        "            ELU\n",
        "            \"\"\"\n",
        "            # Input is 110x84x4\n",
        "            self.conv1 = tf.layers.conv2d(\n",
        "                inputs = self.inputs_,\n",
        "                filters = 32,\n",
        "                kernel_size = [8,8],\n",
        "                strides = [4,4],\n",
        "                padding = 'VALID',\n",
        "                kernel_initializer = tf.contrib.layers.xavier_initializer_conv2d(),\n",
        "                name = 'conv1',\n",
        "            )\n",
        "            \n",
        "            self.conv1_out = tf.nn.elu(self.conv1, name='conv1_out')\n",
        "            \n",
        "            \"\"\"\n",
        "            Second convnet:\n",
        "            CNN\n",
        "            ELU\n",
        "            \"\"\"\n",
        "            self.conv2 = tf.layers.conv2d(\n",
        "                inputs = self.conv1_out,\n",
        "                filters = 64,\n",
        "                kernel_size = [4,4],\n",
        "                strides = [2,2],\n",
        "                padding = 'VALID',\n",
        "                kernel_initializer = tf.contrib.layers.xavier_initializer_conv2d(),\n",
        "                name = 'conv2',\n",
        "            )\n",
        "            \n",
        "            self.conv2_out = tf.nn.elu(self.conv2, name='conv2_out')\n",
        "            \n",
        "            \"\"\"\n",
        "            Third convnet:\n",
        "            CNN\n",
        "            ELU\n",
        "            \"\"\"\n",
        "            self.conv3 = tf.layers.conv2d(\n",
        "                inputs = self.conv2_out,\n",
        "                filters = 64,\n",
        "                kernel_size = [3,3],\n",
        "                strides = [2,2],\n",
        "                padding = 'VALID',\n",
        "                kernel_initializer = tf.contrib.layers.xavier_initializer_conv2d(),\n",
        "                name = 'conv3',\n",
        "            )\n",
        "            \n",
        "            self.conv3_out = tf.nn.elu(self.conv3, name='conv3_out')\n",
        "            \n",
        "            self.flatten = tf.contrib.layers.flatten(self.conv3_out)\n",
        "            \n",
        "            self.fc = tf.layers.dense(\n",
        "                inputs = self.flatten,\n",
        "                units = 512,\n",
        "                activation = tf.nn.elu,\n",
        "                kernel_initializer = tf.contrib.layers.xavier_initializer(),\n",
        "                name = 'fc1',\n",
        "            )\n",
        "            \n",
        "            # output is the Q value estimate per action\n",
        "            self.output = tf.layers.dense(\n",
        "                inputs = self.fc,\n",
        "                kernel_initializer = tf.contrib.layers.xavier_initializer(),\n",
        "                units = self.action_size,\n",
        "                activation = None, # None corresponds to just linear\n",
        "            )\n",
        "            \n",
        "            # Q is our predicted Q value for the action that was selected (?)\n",
        "            # which will be set to 1 in self.actions_ while the non-selected\n",
        "            # will be set to 0 in self.actions_\n",
        "            self.Q = tf.reduce_sum(tf.multiply(self.output, self.actions_))\n",
        "            \n",
        "            # The loss is the difference between our predicted Q_values and the Q_target\n",
        "            # sum(Qtarget - Q)^2\n",
        "            self.loss = tf.reduce_mean(tf.square(self.target_Q - self.Q))\n",
        "            \n",
        "            self.optimizer = tf.train.AdamOptimizer(self.learning_rate).minimize(self.loss)"
      ],
      "execution_count": 0,
      "outputs": []
    },
    {
      "cell_type": "code",
      "metadata": {
        "id": "hg5xHPTR6DBm",
        "colab_type": "code",
        "colab": {
          "base_uri": "https://localhost:8080/",
          "height": 389
        },
        "outputId": "ade78c8b-0c3b-4dae-f41c-2c54031dca62"
      },
      "source": [
        "# Reset the graph\n",
        "tf.reset_default_graph()\n",
        "\n",
        "# Instantiate the network\n",
        "DQNetwork = DQNetwork(state_size, action_size, learning_rate)"
      ],
      "execution_count": 22,
      "outputs": [
        {
          "output_type": "stream",
          "text": [
            "WARNING:tensorflow:\n",
            "The TensorFlow contrib module will not be included in TensorFlow 2.0.\n",
            "For more information, please see:\n",
            "  * https://github.com/tensorflow/community/blob/master/rfcs/20180907-contrib-sunset.md\n",
            "  * https://github.com/tensorflow/addons\n",
            "  * https://github.com/tensorflow/io (for I/O related ops)\n",
            "If you depend on functionality not listed there, please file an issue.\n",
            "\n",
            "WARNING:tensorflow:From <ipython-input-21-5e4dfeba76d6>:37: conv2d (from tensorflow.python.layers.convolutional) is deprecated and will be removed in a future version.\n",
            "Instructions for updating:\n",
            "Use `tf.keras.layers.Conv2D` instead.\n",
            "WARNING:tensorflow:From /usr/local/lib/python3.6/dist-packages/tensorflow_core/python/layers/convolutional.py:424: Layer.apply (from tensorflow.python.keras.engine.base_layer) is deprecated and will be removed in a future version.\n",
            "Instructions for updating:\n",
            "Please use `layer.__call__` method instead.\n",
            "WARNING:tensorflow:From /usr/local/lib/python3.6/dist-packages/tensorflow_core/contrib/layers/python/layers/layers.py:1634: flatten (from tensorflow.python.layers.core) is deprecated and will be removed in a future version.\n",
            "Instructions for updating:\n",
            "Use keras.layers.flatten instead.\n",
            "WARNING:tensorflow:From <ipython-input-21-5e4dfeba76d6>:83: dense (from tensorflow.python.layers.core) is deprecated and will be removed in a future version.\n",
            "Instructions for updating:\n",
            "Use keras.layers.Dense instead.\n"
          ],
          "name": "stdout"
        }
      ]
    },
    {
      "cell_type": "markdown",
      "metadata": {
        "id": "yFkTbPQi6DBs",
        "colab_type": "text"
      },
      "source": [
        "## Step 6: Experience Replay 🔁\n",
        "Now that we create our Neural Network, **we need to implement the Experience Replay method.** <br><br>\n",
        "Here we'll create the Memory object that creates a deque.A deque (double ended queue) is a data type that **removes the oldest element each time that you add a new element.**\n",
        "\n",
        "This part was taken from Udacity : <a href=\"https://github.com/udacity/deep-learning/blob/master/reinforcement/Q-learning-cart.ipynb\" Cartpole DQN</a>"
      ]
    },
    {
      "cell_type": "code",
      "metadata": {
        "id": "Msf1FuS86DBt",
        "colab_type": "code",
        "colab": {}
      },
      "source": [
        "class Memory():\n",
        "    def __init__(self, max_size):\n",
        "        self.buffer = deque(maxlen = max_size)\n",
        "        self.buffer_size = len(self.buffer)\n",
        "        \n",
        "    def add(self, experience):\n",
        "        self.buffer.append(experience) # removes oldest when do this\n",
        "        self.buffer_size = len(self.buffer)\n",
        "        \n",
        "    def sample(self, batch_size):\n",
        "        self.buffer_size = len(self.buffer)\n",
        "        index = np.random.choice(\n",
        "            np.arange(self.buffer_size),\n",
        "            size = batch_size,\n",
        "            replace = False,\n",
        "        )\n",
        "        \n",
        "        return [self.buffer[i] for i in index]"
      ],
      "execution_count": 0,
      "outputs": []
    },
    {
      "cell_type": "markdown",
      "metadata": {
        "id": "bSntbsI16DBz",
        "colab_type": "text"
      },
      "source": [
        "Here we'll **deal with the empty memory problem**: we pre-populate our memory by taking random actions and storing the experience (state, action, reward, next_state)."
      ]
    },
    {
      "cell_type": "code",
      "metadata": {
        "id": "Vfr8vO9y6DB0",
        "colab_type": "code",
        "colab": {}
      },
      "source": [
        "# Instantiate memory\n",
        "memory = Memory(max_size = memory_size)\n",
        "\n",
        "for i in range(pretrain_length):\n",
        "    # If first step\n",
        "    if i==0:\n",
        "        state = env.reset()\n",
        "        \n",
        "        state, stacked_frames = stack_frames(stacked_frames, state, True)\n",
        "        \n",
        "    # Get the next_state, rewards, done by taking random action\n",
        "    choice = random.randint(1,len(possible_actions)) - 1\n",
        "    action = possible_actions[choice]\n",
        "    next_state, reward, done, _ = env.step(action)\n",
        "    \n",
        "    #env.render()\n",
        "    \n",
        "    # Stack the frames\n",
        "    next_state, stacked_frames = stack_frames(stacked_frames, next_state, False)\n",
        "    \n",
        "    # If episode is finished (dead 3x)\n",
        "    if done:\n",
        "        # finished the episode\n",
        "        next_state = np.zeros(state.shape)\n",
        "        \n",
        "        # Add experience to memory\n",
        "        memory.add((state, action, reward, next_state, done))\n",
        "        \n",
        "        # start a new episode\n",
        "        state = env.reset()\n",
        "        \n",
        "        # stack frames\n",
        "        state, stacked_frames = stack_frames(stacked_frames, state, True)\n",
        "        \n",
        "    else:\n",
        "        # Add experience to memory\n",
        "        memory.add((state, action, reward, next_state, done))\n",
        "        \n",
        "        state = next_state"
      ],
      "execution_count": 0,
      "outputs": []
    },
    {
      "cell_type": "markdown",
      "metadata": {
        "id": "OnJ4VeiH6DB4",
        "colab_type": "text"
      },
      "source": [
        "## Step 7: Set up Tensorboard 📊\n",
        "For more information about tensorboard, please watch this <a href=\"https://www.youtube.com/embed/eBbEDRsCmv4\">excellent 30min tutorial</a> <br><br>\n",
        "To launch tensorboard : `tensorboard --logdir=/tensorboard/dqn/1`"
      ]
    },
    {
      "cell_type": "code",
      "metadata": {
        "id": "VtwVtHWN6DB6",
        "colab_type": "code",
        "colab": {}
      },
      "source": [
        "writer = tf.summary.FileWriter('/tensorboard/dqn/1')\n",
        "\n",
        "tf.summary.scalar('loss', DQNetwork.loss)\n",
        "\n",
        "write_op = tf.summary.merge_all()"
      ],
      "execution_count": 0,
      "outputs": []
    },
    {
      "cell_type": "markdown",
      "metadata": {
        "id": "cvWD1cRY9qFK",
        "colab_type": "text"
      },
      "source": [
        "See: https://www.dlology.com/blog/quick-guide-to-run-tensorboard-in-google-colab/"
      ]
    },
    {
      "cell_type": "code",
      "metadata": {
        "id": "mp-fOc_E9Mmn",
        "colab_type": "code",
        "colab": {
          "base_uri": "https://localhost:8080/",
          "height": 266
        },
        "outputId": "36164009-da97-400c-d2d8-979bb9cd15fc"
      },
      "source": [
        "!wget https://bin.equinox.io/c/4VmDzA7iaHb/ngrok-stable-linux-amd64.zip\n",
        "!unzip ngrok-stable-linux-amd64.zip"
      ],
      "execution_count": 26,
      "outputs": [
        {
          "output_type": "stream",
          "text": [
            "--2020-01-16 10:46:27--  https://bin.equinox.io/c/4VmDzA7iaHb/ngrok-stable-linux-amd64.zip\n",
            "Resolving bin.equinox.io (bin.equinox.io)... 34.235.253.190, 3.228.157.109, 34.206.126.139, ...\n",
            "Connecting to bin.equinox.io (bin.equinox.io)|34.235.253.190|:443... connected.\n",
            "HTTP request sent, awaiting response... 200 OK\n",
            "Length: 13773305 (13M) [application/octet-stream]\n",
            "Saving to: ‘ngrok-stable-linux-amd64.zip’\n",
            "\n",
            "ngrok-stable-linux- 100%[===================>]  13.13M  40.3MB/s    in 0.3s    \n",
            "\n",
            "2020-01-16 10:46:28 (40.3 MB/s) - ‘ngrok-stable-linux-amd64.zip’ saved [13773305/13773305]\n",
            "\n",
            "Archive:  ngrok-stable-linux-amd64.zip\n",
            "  inflating: ngrok                   \n"
          ],
          "name": "stdout"
        }
      ]
    },
    {
      "cell_type": "code",
      "metadata": {
        "id": "KbRVDXiE9jg9",
        "colab_type": "code",
        "colab": {}
      },
      "source": [
        "LOG_DIR = '/tensorboard/dqn/1'\n",
        "get_ipython().system_raw(\n",
        "    'tensorboard --logdir {} --host 0.0.0.0 --port 6006 &'\n",
        "    .format(LOG_DIR)\n",
        ")"
      ],
      "execution_count": 0,
      "outputs": []
    },
    {
      "cell_type": "code",
      "metadata": {
        "id": "NgmYdVoG9vqj",
        "colab_type": "code",
        "colab": {}
      },
      "source": [
        "get_ipython().system_raw('./ngrok http 6006 &')"
      ],
      "execution_count": 0,
      "outputs": []
    },
    {
      "cell_type": "code",
      "metadata": {
        "id": "IXldfyu791Is",
        "colab_type": "code",
        "colab": {
          "base_uri": "https://localhost:8080/",
          "height": 34
        },
        "outputId": "e500c07f-f8e1-42fb-a945-f9235e19a8fc"
      },
      "source": [
        "! curl -s http://localhost:4040/api/tunnels | python3 -c \\\n",
        "    \"import sys, json; print(json.load(sys.stdin)['tunnels'][0]['public_url'])\""
      ],
      "execution_count": 29,
      "outputs": [
        {
          "output_type": "stream",
          "text": [
            "https://aeaea787.ngrok.io\n"
          ],
          "name": "stdout"
        }
      ]
    },
    {
      "cell_type": "markdown",
      "metadata": {
        "id": "8ol3sEsP6DCA",
        "colab_type": "text"
      },
      "source": [
        "## Step 8: Train our Agent 🏃‍♂️\n",
        "\n",
        "Our algorithm:\n",
        "<br>\n",
        "* Initialize the weights\n",
        "* Init the environment\n",
        "* Initialize the decay rate (that will use to reduce epsilon) \n",
        "<br><br>\n",
        "* **For** episode to max_episode **do** \n",
        "    * Make new episode\n",
        "    * Set step to 0\n",
        "    * Observe the first state $s_0$\n",
        "    <br><br>\n",
        "    * **While** step < max_steps **do**:\n",
        "        * Increase decay_rate\n",
        "        * With $\\epsilon$ select a random action $a_t$, otherwise select $a_t = \\mathrm{argmax}_a Q(s_t,a)$\n",
        "        * Execute action $a_t$ in simulator and observe reward $r_{t+1}$ and new state $s_{t+1}$\n",
        "        * Store transition $<s_t, a_t, r_{t+1}, s_{t+1}>$ in memory $D$\n",
        "        * Sample random mini-batch from $D$: $<s, a, r, s'>$\n",
        "        * Set $\\hat{Q} = r$ if the episode ends at $+1$, otherwise set $\\hat{Q} = r + \\gamma \\max_{a'}{Q(s', a')}$\n",
        "        * Make a gradient descent step with loss $(\\hat{Q} - Q(s, a))^2$\n",
        "    * **endfor**\n",
        "    <br><br>\n",
        "* **endfor**\n",
        "\n",
        "    "
      ]
    },
    {
      "cell_type": "code",
      "metadata": {
        "id": "A3y9HLCk6DCC",
        "colab_type": "code",
        "colab": {}
      },
      "source": [
        "\"\"\"\n",
        "This selects random action with probability epsilon\n",
        "otherwise select action as the one that maximizes Q(s_t,a)\n",
        "\"\"\"\n",
        "def predict_action(explore_start, explore_stop, decay_rate, state, actions):\n",
        "    exp_exp_tradeoff = np.random.rand()\n",
        "    \n",
        "    explore_probability = explore_stop + (explore_start - explore_stop) * np.exp(-decay_rate * decay_step)\n",
        "    \n",
        "    if (explore_probability > exp_exp_tradeoff):\n",
        "        # random selection to explore\n",
        "        choice = random.randint(1,len(possible_actions))-1\n",
        "        action = possible_actions[choice]\n",
        "        \n",
        "    else:\n",
        "        # get action from Q-network to exploit\n",
        "        # First need to esimate the Q(s,a) for all as via the Q network\n",
        "        Qs = sess.run( # note: this needs to be called where/when sess is available\n",
        "            DQNetwork.output, \n",
        "            feed_dict = {\n",
        "                DQNetwork.inputs_: state.reshape((1, *state.shape))\n",
        "            }\n",
        "        )\n",
        "        \n",
        "        # Take the action with the biggest Q (= the best action)\n",
        "        choice = np.argmax(Qs)\n",
        "        action = possible_actions[choice]\n",
        "        \n",
        "    return action, explore_probability"
      ],
      "execution_count": 0,
      "outputs": []
    },
    {
      "cell_type": "code",
      "metadata": {
        "id": "6pd28y-S6DCG",
        "colab_type": "code",
        "colab": {
          "base_uri": "https://localhost:8080/",
          "height": 34
        },
        "outputId": "08e1c3ab-b081-47a6-8048-0ed92955c058"
      },
      "source": [
        "saver = tf.train.Saver()\n",
        "\n",
        "if training == True:\n",
        "    with tf.Session() as sess:\n",
        "        # Initialize variables\n",
        "        sess.run(tf.global_variables_initializer())\n",
        "        \n",
        "        # Initialize the decay rate (to reduce epsilon)\n",
        "        decay_step = 0\n",
        "        \n",
        "        rewards_list = []\n",
        "        \n",
        "        print('Starting training...')\n",
        "        for episode in range(total_episodes):\n",
        "            # set step to 0\n",
        "            step = 0\n",
        "            \n",
        "            # Init rewards for episode\n",
        "            episode_rewards = []\n",
        "            \n",
        "            # Make a new episode and observe the first state\n",
        "            state = env.reset()\n",
        "            \n",
        "            # Stack frames, which also pre-processes frames\n",
        "            state, stacked_frames = stack_frames(stacked_frames, state, True)\n",
        "            \n",
        "            while step < max_steps:\n",
        "                step += 1\n",
        "                \n",
        "                decay_step += 1\n",
        "                \n",
        "                # Select an action\n",
        "                action, explore_probability = predict_action(\n",
        "                    explore_start, \n",
        "                    explore_stop,\n",
        "                    decay_rate,\n",
        "                    state,\n",
        "                    possible_actions\n",
        "                )\n",
        "                \n",
        "                # Perform action and get next state, reward, and done\n",
        "                next_state, reward, done, _ = env.step(action)\n",
        "                \n",
        "                if episode_render:\n",
        "                    env.render()\n",
        "                    \n",
        "                episode_rewards.append(reward)\n",
        "                \n",
        "                # If game is finished\n",
        "                if done:\n",
        "                    # No next state\n",
        "                    next_state = np.zeros((110,84), dtype=np.int)\n",
        "                    \n",
        "                    next_state, stacked_frames = stack_frames(stacked_frames, next_state, False)\n",
        "                    \n",
        "                    # set step = max_steps to end episode\n",
        "                    step = max_steps\n",
        "                    \n",
        "                    # Get total reward of episode\n",
        "                    total_reward = np.sum(episode_rewards)\n",
        "                    \n",
        "                    print(\n",
        "                        'Episode: {}\\n'.format(episode),\n",
        "                        '\\tTotal reward: {}\\n'.format(total_reward),\n",
        "                        '\\tExplore P (at end of episode): {:.4f}\\n'.format(explore_probability),\n",
        "                        '\\tTraining loss: {:.4f}\\n'.format(loss)\n",
        "                    )\n",
        "                    \n",
        "                    rewards_list.append((episode, total_reward))\n",
        "                    \n",
        "                    # store transition in memory\n",
        "                    memory.add((state, action, reward, next_state, done))\n",
        "                    \n",
        "                else:\n",
        "                    # Stack frame of the next_state\n",
        "                    next_state, stacked_frames = stack_frames(stacked_frames, next_state, False)\n",
        "                    \n",
        "                    # Add experience to memory\n",
        "                    memory.add((state, action, reward, next_state, done))\n",
        "                    \n",
        "                    # s_t+1 is now current state\n",
        "                    state = next_state\n",
        "                    \n",
        "                ### LEARNING\n",
        "                # Obtain mini batch from memory\n",
        "                batch = memory.sample(batch_size)\n",
        "                states_mb = np.array([each[0] for each in batch], ndmin=3)\n",
        "                actions_mb = np.array([each[1] for each in batch])\n",
        "                rewards_mb = np.array([each[2] for each in batch])\n",
        "                next_states_mb = np.array([each[3] for each in batch], ndmin=3)\n",
        "                dones_mb = np.array([each[4] for each in batch])\n",
        "                \n",
        "                target_Qs_batch = []\n",
        "                \n",
        "                # Get Q values for next_state\n",
        "                Qs_next_state = sess.run(\n",
        "                    DQNetwork.output,\n",
        "                    feed_dict = {\n",
        "                        DQNetwork.inputs_: next_states_mb\n",
        "                    }\n",
        "                )\n",
        "                \n",
        "                # Set Q_target = r if episode ends at s+1\n",
        "                # otherwise set Q_target = r + gamma * max_{a'} Q(s',a')\n",
        "                for i in range(0, len(batch)):\n",
        "                    terminal = dones_mb[i]\n",
        "                    \n",
        "                    if terminal:\n",
        "                        target_Qs_batch.append(rewards_mb[i])\n",
        "                        \n",
        "                    else:\n",
        "                        target = rewards_mb[i] + gamma * np.max(Qs_next_state[i])\n",
        "                        target_Qs_batch.append(target)\n",
        "                        \n",
        "                targets_mb = np.array([each for each in target_Qs_batch])\n",
        "                \n",
        "                loss, _ = sess.run(\n",
        "                    [DQNetwork.loss, DQNetwork.optimizer],\n",
        "                    feed_dict = {\n",
        "                        DQNetwork.inputs_: states_mb,\n",
        "                        DQNetwork.target_Q: targets_mb,\n",
        "                        DQNetwork.actions_: actions_mb\n",
        "                    }\n",
        "                )\n",
        "                \n",
        "                # Write TF summaries\n",
        "                summary = sess.run(\n",
        "                    write_op,\n",
        "                    feed_dict = {\n",
        "                        DQNetwork.inputs_: states_mb,\n",
        "                        DQNetwork.target_Q: targets_mb,\n",
        "                        DQNetwork.actions_: actions_mb\n",
        "                    }\n",
        "                )\n",
        "                \n",
        "                writer.add_summary(summary,episode)\n",
        "                writer.flush()\n",
        "                \n",
        "            # Save model every 5 episodes\n",
        "            if episode % 1 == 0:\n",
        "                save_path = saver.save(sess, './models/model.ckpt')\n",
        "                print('Model saved')"
      ],
      "execution_count": 0,
      "outputs": [
        {
          "output_type": "stream",
          "text": [
            "Starting training...\n"
          ],
          "name": "stdout"
        }
      ]
    },
    {
      "cell_type": "markdown",
      "metadata": {
        "id": "RT1xuDXs6DCK",
        "colab_type": "text"
      },
      "source": [
        "## Step 9: Test and Watch our Agent play 👀\n",
        "Now that we trained our agent, we can test it"
      ]
    },
    {
      "cell_type": "code",
      "metadata": {
        "id": "p_02qcaI6DCM",
        "colab_type": "code",
        "colab": {}
      },
      "source": [
        "with tf.Session() as sess:\n",
        "    total_test_rewards = []\n",
        "    \n",
        "    # Load the model\n",
        "    saver.restore(sess, './models/model.ckpt')\n",
        "    \n",
        "    for episode in range(1):\n",
        "        total_rewards = 0\n",
        "        \n",
        "        state = env.reset()\n",
        "        state, stacked_frames = stack_frames(stacked_frames, state, True)\n",
        "        \n",
        "        print(\"****************************************************\")\n",
        "        print(\"EPISODE \", episode)\n",
        "        \n",
        "        while True:\n",
        "            state = state.reshape((1, *state_size))\n",
        "            \n",
        "            # Get action from Q-network\n",
        "            # Estimate the Qs values state\n",
        "            Qs = sess.run(\n",
        "                DQNetwork.output,\n",
        "                feed_dict = {\n",
        "                    DQNetwork.inputs_: state\n",
        "                }\n",
        "            )\n",
        "            \n",
        "            # Select the best action, according to Q estimates\n",
        "            choice = np.argmax(Qs)\n",
        "            action = possible_actions[choice]\n",
        "            \n",
        "            # Perform the action and get the next_state, reward, and done\n",
        "            next_state, reward, done, _ = env.step(action)\n",
        "            env.render()\n",
        "            \n",
        "            total_rewards += reward\n",
        "            \n",
        "            if done:\n",
        "                print('Score', total rewards)\n",
        "                total_test_rewards.append(total_rewards)\n",
        "                break\n",
        "                \n",
        "            next_state, stacked_frames = stack_frames(stacked_frames, next_state, False)\n",
        "            state = next_state\n",
        "            \n",
        "    env.close()"
      ],
      "execution_count": 0,
      "outputs": []
    }
  ]
}